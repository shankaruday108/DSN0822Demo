{
 "cells": [
  {
   "cell_type": "code",
   "execution_count": 2,
   "id": "78f2065b",
   "metadata": {},
   "outputs": [
    {
     "name": "stdout",
     "output_type": "stream",
     "text": [
      "Hello Uday Shankar.\n"
     ]
    }
   ],
   "source": [
    "print('Hello Uday Shankar.')\n",
    "# Print is a function in python"
   ]
  },
  {
   "cell_type": "code",
   "execution_count": 4,
   "id": "2150ce53",
   "metadata": {},
   "outputs": [
    {
     "name": "stdout",
     "output_type": "stream",
     "text": [
      "10\n",
      "20\n",
      "Uday Shankar\n"
     ]
    }
   ],
   "source": [
    "x = 10\n",
    "y = 20\n",
    "myName = \"Uday Shankar\"\n",
    "print(x)\n",
    "print(y)\n",
    "print(myName)\n"
   ]
  },
  {
   "cell_type": "code",
   "execution_count": 4,
   "id": "69db3e2c",
   "metadata": {},
   "outputs": [
    {
     "name": "stdout",
     "output_type": "stream",
     "text": [
      "Uday Shankar\n"
     ]
    }
   ],
   "source": [
    "firstName = 'Uday'\n",
    "lastName = 'Shankar'\n",
    "\n",
    "print(firstName,lastName)"
   ]
  },
  {
   "cell_type": "code",
   "execution_count": 5,
   "id": "1375fce9",
   "metadata": {},
   "outputs": [
    {
     "name": "stdout",
     "output_type": "stream",
     "text": [
      "UdayShankar\n"
     ]
    }
   ],
   "source": [
    "print(firstName + lastName)"
   ]
  },
  {
   "cell_type": "code",
   "execution_count": 6,
   "id": "66ccd8e4",
   "metadata": {},
   "outputs": [
    {
     "name": "stdout",
     "output_type": "stream",
     "text": [
      "110\n"
     ]
    }
   ],
   "source": [
    "a= 50\n",
    "b= 60\n",
    "\n",
    "#The sum of a and b is 110\n",
    "\n",
    "print(a+b)"
   ]
  },
  {
   "cell_type": "code",
   "execution_count": 7,
   "id": "0cb5fab3",
   "metadata": {},
   "outputs": [
    {
     "name": "stdout",
     "output_type": "stream",
     "text": [
      "The sum of a and b is 110\n"
     ]
    }
   ],
   "source": [
    "print('The sum of a and b is', a+b)"
   ]
  },
  {
   "cell_type": "code",
   "execution_count": null,
   "id": "6d4f1819",
   "metadata": {},
   "outputs": [],
   "source": []
  }
 ],
 "metadata": {
  "kernelspec": {
   "display_name": "Python 3 (ipykernel)",
   "language": "python",
   "name": "python3"
  },
  "language_info": {
   "codemirror_mode": {
    "name": "ipython",
    "version": 3
   },
   "file_extension": ".py",
   "mimetype": "text/x-python",
   "name": "python",
   "nbconvert_exporter": "python",
   "pygments_lexer": "ipython3",
   "version": "3.9.12"
  }
 },
 "nbformat": 4,
 "nbformat_minor": 5
}
