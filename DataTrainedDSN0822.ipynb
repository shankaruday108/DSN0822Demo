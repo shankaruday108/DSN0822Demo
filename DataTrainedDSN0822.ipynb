{
 "cells": [
  {
   "cell_type": "code",
   "execution_count": 5,
   "id": "78f2065b",
   "metadata": {},
   "outputs": [
    {
     "name": "stdout",
     "output_type": "stream",
     "text": [
      "Hello Uday Shankar.\n"
     ]
    }
   ],
   "source": [
    "print('Hello Uday Shankar.')\n",
    "# Print is a function in python"
   ]
  },
  {
   "cell_type": "code",
   "execution_count": 4,
   "id": "2150ce53",
   "metadata": {},
   "outputs": [
    {
     "name": "stdout",
     "output_type": "stream",
     "text": [
      "10\n",
      "20\n",
      "Uday Shankar\n"
     ]
    }
   ],
   "source": [
    "x = 10\n",
    "y = 20\n",
    "myName = \"Uday Shankar\"\n",
    "print(x)\n",
    "print(y)\n",
    "print(myName)\n"
   ]
  },
  {
   "cell_type": "code",
   "execution_count": null,
   "id": "69db3e2c",
   "metadata": {},
   "outputs": [],
   "source": []
  }
 ],
 "metadata": {
  "kernelspec": {
   "display_name": "Python 3 (ipykernel)",
   "language": "python",
   "name": "python3"
  },
  "language_info": {
   "codemirror_mode": {
    "name": "ipython",
    "version": 3
   },
   "file_extension": ".py",
   "mimetype": "text/x-python",
   "name": "python",
   "nbconvert_exporter": "python",
   "pygments_lexer": "ipython3",
   "version": "3.9.12"
  }
 },
 "nbformat": 4,
 "nbformat_minor": 5
}
